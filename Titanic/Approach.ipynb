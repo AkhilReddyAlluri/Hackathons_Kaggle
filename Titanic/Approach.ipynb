{
 "cells": [
  {
   "cell_type": "code",
   "execution_count": 212,
   "metadata": {},
   "outputs": [],
   "source": [
    "import numpy as np\n",
    "import pandas as pd\n",
    "\n",
    "import matplotlib.pyplot as plt\n",
    "import seaborn as sns\n",
    "\n",
    "from sklearn.model_selection import train_test_split, cross_val_score\n",
    "from sklearn.metrics import accuracy_score\n",
    "from hyperopt import hp, tpe, fmin, STATUS_OK, Trials\n",
    "\n",
    "from xgboost import XGBClassifier\n",
    "from lightgbm import LGBMClassifier\n",
    "from catboost import CatBoostClassifier\n",
    "\n",
    "import warnings\n",
    "warnings.filterwarnings('ignore')"
   ]
  },
  {
   "cell_type": "markdown",
   "metadata": {},
   "source": [
    "## Custom Functions"
   ]
  },
  {
   "cell_type": "code",
   "execution_count": 213,
   "metadata": {},
   "outputs": [],
   "source": [
    "def data_viz(df, columns, target=None, type='bar'):\n",
    "    num_of_cols = len(columns)\n",
    "    \n",
    "    if type=='hist':\n",
    "        subplots = 4\n",
    "    else:\n",
    "        subplots = 2\n",
    "        \n",
    "    rows, remainder = divmod(num_of_cols, subplots)\n",
    "    if remainder != 0:\n",
    "        rows += 1\n",
    "    fig,ax = plt.subplots(rows, subplots, figsize=(22, 6*rows))\n",
    "    \n",
    "    if type=='hist':\n",
    "        for col, axes in zip(columns, ax.flatten()):\n",
    "            sns.distplot(df[col], ax=axes)\n",
    "    elif type=='box':\n",
    "        for col, axes in zip(columns, ax.flatten()):\n",
    "            sns.boxplot(df[col], ax=axes)\n",
    "    elif type=='scatter':\n",
    "        for col, axes in zip(columns, ax.flatten()):\n",
    "            sns.scatterplot(x=col, y=target, data=df, ax=axes)\n",
    "    elif type=='cross_tab':\n",
    "        for col, axes in zip(columns, ax.flatten()):\n",
    "            ct = pd.crosstab(df[col], df[target])\n",
    "            ct.plot.bar(ax=axes)\n",
    "    else:\n",
    "        for col, axes in zip(columns, ax.flatten()):\n",
    "            sns.countplot(df[col], ax=axes)"
   ]
  },
  {
   "cell_type": "code",
   "execution_count": 214,
   "metadata": {},
   "outputs": [],
   "source": [
    "def handle_outliers(df, columns):\n",
    "    for col in columns:\n",
    "#         q1, q3 = np.percentile(df[col], [25,75])\n",
    "        iqr = df[col].quantile(.75)-df[col].quantile(0.25)\n",
    "        lower_bound = q1-(1.5*iqr)\n",
    "        upper_bound = q3+(1.5*iqr)\n",
    "        df[col] = np.where(df[col] < lower_bound, lower_bound, np.where(df[col]>upper_bound, upper_bound, df[col]))"
   ]
  },
  {
   "cell_type": "code",
   "execution_count": 215,
   "metadata": {},
   "outputs": [],
   "source": [
    "def random_sample_imputation(df, col):\n",
    "    df[col +'_random'] = df[col]\n",
    "    random_sample = df[col].dropna().sample(df[col].isna().sum(), random_state=0)\n",
    "    random_sample.index = df[df[col].isna()].index\n",
    "    df.loc[df[col].isna(), col +'_random'] = random_sample"
   ]
  },
  {
   "cell_type": "markdown",
   "metadata": {},
   "source": [
    "## EDA"
   ]
  },
  {
   "cell_type": "code",
   "execution_count": 216,
   "metadata": {},
   "outputs": [],
   "source": [
    "train = pd.read_csv('train.csv')\n",
    "test = pd.read_csv('test.csv')"
   ]
  },
  {
   "cell_type": "code",
   "execution_count": 217,
   "metadata": {},
   "outputs": [],
   "source": [
    "train['is_train'] = 1\n",
    "test['is_train'] = 0\n",
    "test['Survived'] = 0\n",
    "\n",
    "full = train.append(test)"
   ]
  },
  {
   "cell_type": "code",
   "execution_count": 218,
   "metadata": {},
   "outputs": [
    {
     "data": {
      "text/html": [
       "<div>\n",
       "<style scoped>\n",
       "    .dataframe tbody tr th:only-of-type {\n",
       "        vertical-align: middle;\n",
       "    }\n",
       "\n",
       "    .dataframe tbody tr th {\n",
       "        vertical-align: top;\n",
       "    }\n",
       "\n",
       "    .dataframe thead th {\n",
       "        text-align: right;\n",
       "    }\n",
       "</style>\n",
       "<table border=\"1\" class=\"dataframe\">\n",
       "  <thead>\n",
       "    <tr style=\"text-align: right;\">\n",
       "      <th></th>\n",
       "      <th>PassengerId</th>\n",
       "      <th>Survived</th>\n",
       "      <th>Pclass</th>\n",
       "      <th>Name</th>\n",
       "      <th>Sex</th>\n",
       "      <th>Age</th>\n",
       "      <th>SibSp</th>\n",
       "      <th>Parch</th>\n",
       "      <th>Ticket</th>\n",
       "      <th>Fare</th>\n",
       "      <th>Cabin</th>\n",
       "      <th>Embarked</th>\n",
       "      <th>is_train</th>\n",
       "    </tr>\n",
       "  </thead>\n",
       "  <tbody>\n",
       "    <tr>\n",
       "      <th>0</th>\n",
       "      <td>1</td>\n",
       "      <td>0</td>\n",
       "      <td>3</td>\n",
       "      <td>Braund, Mr. Owen Harris</td>\n",
       "      <td>male</td>\n",
       "      <td>22.0</td>\n",
       "      <td>1</td>\n",
       "      <td>0</td>\n",
       "      <td>A/5 21171</td>\n",
       "      <td>7.2500</td>\n",
       "      <td>NaN</td>\n",
       "      <td>S</td>\n",
       "      <td>1</td>\n",
       "    </tr>\n",
       "    <tr>\n",
       "      <th>1</th>\n",
       "      <td>2</td>\n",
       "      <td>1</td>\n",
       "      <td>1</td>\n",
       "      <td>Cumings, Mrs. John Bradley (Florence Briggs Th...</td>\n",
       "      <td>female</td>\n",
       "      <td>38.0</td>\n",
       "      <td>1</td>\n",
       "      <td>0</td>\n",
       "      <td>PC 17599</td>\n",
       "      <td>71.2833</td>\n",
       "      <td>C85</td>\n",
       "      <td>C</td>\n",
       "      <td>1</td>\n",
       "    </tr>\n",
       "  </tbody>\n",
       "</table>\n",
       "</div>"
      ],
      "text/plain": [
       "   PassengerId  Survived  Pclass  \\\n",
       "0            1         0       3   \n",
       "1            2         1       1   \n",
       "\n",
       "                                                Name     Sex   Age  SibSp  \\\n",
       "0                            Braund, Mr. Owen Harris    male  22.0      1   \n",
       "1  Cumings, Mrs. John Bradley (Florence Briggs Th...  female  38.0      1   \n",
       "\n",
       "   Parch     Ticket     Fare Cabin Embarked  is_train  \n",
       "0      0  A/5 21171   7.2500   NaN        S         1  \n",
       "1      0   PC 17599  71.2833   C85        C         1  "
      ]
     },
     "execution_count": 218,
     "metadata": {},
     "output_type": "execute_result"
    }
   ],
   "source": [
    "full.head(2)"
   ]
  },
  {
   "cell_type": "code",
   "execution_count": 219,
   "metadata": {},
   "outputs": [
    {
     "data": {
      "text/plain": [
       "929"
      ]
     },
     "execution_count": 219,
     "metadata": {},
     "output_type": "execute_result"
    }
   ],
   "source": [
    "full['Ticket'].nunique(dropna=False)"
   ]
  },
  {
   "cell_type": "code",
   "execution_count": 220,
   "metadata": {},
   "outputs": [
    {
     "data": {
      "text/plain": [
       "187"
      ]
     },
     "execution_count": 220,
     "metadata": {},
     "output_type": "execute_result"
    }
   ],
   "source": [
    "full['Cabin'].nunique(dropna=False)"
   ]
  },
  {
   "cell_type": "code",
   "execution_count": 221,
   "metadata": {},
   "outputs": [
    {
     "name": "stdout",
     "output_type": "stream",
     "text": [
      "['PassengerId', 'Survived', 'Pclass', 'Age', 'SibSp', 'Parch', 'Fare', 'is_train']\n",
      "['Name', 'Sex', 'Ticket', 'Cabin', 'Embarked']\n"
     ]
    }
   ],
   "source": [
    "numeric_cols = full.select_dtypes(exclude='object').columns.tolist()\n",
    "categoric_cols = full.select_dtypes(include='object').columns.tolist()\n",
    "print(numeric_cols)\n",
    "print(categoric_cols)"
   ]
  },
  {
   "cell_type": "code",
   "execution_count": 222,
   "metadata": {},
   "outputs": [],
   "source": [
    "numc_cols = ['Age', 'Fare']\n",
    "catg_cols = ['Sex', 'Embarked','Pclass', 'SibSp', 'Parch']"
   ]
  },
  {
   "cell_type": "code",
   "execution_count": null,
   "metadata": {},
   "outputs": [],
   "source": []
  },
  {
   "cell_type": "code",
   "execution_count": 223,
   "metadata": {},
   "outputs": [
    {
     "data": {
      "image/png": "[encoded data removed]",
      "text/plain": [
       "<Figure size 1584x432 with 4 Axes>"
      ]
     },
     "metadata": {
      "needs_background": "light"
     },
     "output_type": "display_data"
    }
   ],
   "source": [
    "data_viz(full, numc_cols, type='hist')"
   ]
  },
  {
   "cell_type": "code",
   "execution_count": 224,
   "metadata": {},
   "outputs": [],
   "source": [
    "# data_viz(full, catg_cols)"
   ]
  },
  {
   "cell_type": "code",
   "execution_count": 225,
   "metadata": {},
   "outputs": [],
   "source": [
    "# data_viz(full,['Sex', 'Embarked', 'Pclass'], target='Survived', type='cross_tab')"
   ]
  },
  {
   "cell_type": "markdown",
   "metadata": {},
   "source": [
    "## Feature Engineering"
   ]
  },
  {
   "cell_type": "markdown",
   "metadata": {},
   "source": [
    "### 1. Handling missing values\n",
    "    1. arbitrary imp\n",
    "    2. random sample imputation\n",
    "    3. frequent category imp\n",
    "    4. end of distribution imp\n",
    "    5. creating new feature\n",
    "    6. mean/median/mode/count"
   ]
  },
  {
   "cell_type": "code",
   "execution_count": 226,
   "metadata": {},
   "outputs": [
    {
     "name": "stdout",
     "output_type": "stream",
     "text": [
      "Age - 20.09\n",
      "Fare - 0.08\n",
      "Cabin - 77.46\n",
      "Embarked - 0.15\n",
      "0.0\n"
     ]
    }
   ],
   "source": [
    "# there should be a better way(look for it)\n",
    "for col in full.columns.tolist(): \n",
    "    if(full[col].isna().mean()>0):\n",
    "        print(col + ' - ' + str(round(full[col].isna().mean()*100, 2)))\n",
    "\n",
    "print(train['Survived'].isna().mean()*100) \n",
    "#interesting. train has no nan for target variuable but test has 31.9% nan"
   ]
  },
  {
   "cell_type": "code",
   "execution_count": 227,
   "metadata": {},
   "outputs": [],
   "source": [
    "# as missing % is very less\n",
    "full['Fare'].fillna(full['Fare'].median(), inplace=True)\n",
    "full['Embarked'].fillna(full['Embarked'].mode()[0], inplace=True)"
   ]
  },
  {
   "cell_type": "code",
   "execution_count": 228,
   "metadata": {},
   "outputs": [],
   "source": [
    "full['cabin_null'] = np.where(full['Cabin'].isna(), 1, 0)\n",
    "full['Age_null'] = np.where(full['Age'].isna(), 1, 0)"
   ]
  },
  {
   "cell_type": "code",
   "execution_count": 229,
   "metadata": {},
   "outputs": [
    {
     "name": "stdout",
     "output_type": "stream",
     "text": [
      "91.25475285171103\n",
      "0.23668639053254437\n"
     ]
    }
   ],
   "source": [
    "print(full[full['Age'].isna()]['Cabin'].isna().mean()*100) #nunique(dropna=False)\n",
    "#if Age is NA then 91% of cabin NA\n",
    "\n",
    "print(full[full['Cabin'].isna()]['Age'].isna().mean())\n",
    "# If Cabin is NA then 23.6% of Age is NA"
   ]
  },
  {
   "cell_type": "code",
   "execution_count": 230,
   "metadata": {},
   "outputs": [],
   "source": [
    "# data_viz(full, ['Age'], type='box')"
   ]
  },
  {
   "cell_type": "code",
   "execution_count": 231,
   "metadata": {},
   "outputs": [],
   "source": [
    "full['Age'].fillna(-1, inplace=True)\n",
    "bins = [-2,0,21,41,61,81,100]\n",
    "labels=[0,1,2,3,4,5]\n",
    "full['Age_binned'] = pd.cut(full['Age'], bins=bins, labels=labels)"
   ]
  },
  {
   "cell_type": "code",
   "execution_count": 232,
   "metadata": {},
   "outputs": [
    {
     "data": {
      "text/plain": [
       "2    543\n",
       "1    290\n",
       "0    263\n",
       "3    186\n",
       "4     27\n",
       "5      0\n",
       "Name: Age_binned, dtype: int64"
      ]
     },
     "execution_count": 232,
     "metadata": {},
     "output_type": "execute_result"
    }
   ],
   "source": [
    "full['Age_binned'].value_counts()"
   ]
  },
  {
   "cell_type": "code",
   "execution_count": 233,
   "metadata": {},
   "outputs": [
    {
     "data": {
      "text/plain": [
       "array(['A10', 'A11', 'A14', 'A16', 'A18', 'A19', 'A20', 'A21', 'A23',\n",
       "       'A24', 'A26', 'A29', 'A31', 'A32', 'A34', 'A36', 'A5', 'A6', 'A7',\n",
       "       'A9', 'B10', 'B101', 'B102', 'B11', 'B18', 'B19', 'B20', 'B22',\n",
       "       'B24', 'B26', 'B28', 'B3', 'B30', 'B35', 'B36', 'B37', 'B38',\n",
       "       'B39', 'B4', 'B41', 'B42', 'B45', 'B49', 'B5', 'B50',\n",
       "       'B51 B53 B55', 'B52 B54 B56', 'B57 B59 B63 B66', 'B58 B60', 'B61',\n",
       "       'B69', 'B71', 'B73', 'B77', 'B78', 'B79', 'B80', 'B82 B84', 'B86',\n",
       "       'B94', 'B96 B98', 'C101', 'C103', 'C104', 'C105', 'C106', 'C110',\n",
       "       'C111', 'C116', 'C118', 'C123', 'C124', 'C125', 'C126', 'C128',\n",
       "       'C130', 'C132', 'C148', 'C2', 'C22 C26', 'C23 C25 C27', 'C28',\n",
       "       'C30', 'C31', 'C32', 'C39', 'C45', 'C46', 'C47', 'C49', 'C50',\n",
       "       'C51', 'C52', 'C53', 'C54', 'C55 C57', 'C6', 'C62 C64', 'C65',\n",
       "       'C68', 'C7', 'C70', 'C78', 'C80', 'C82', 'C83', 'C85', 'C86',\n",
       "       'C87', 'C89', 'C90', 'C91', 'C92', 'C93', 'C95', 'C97', 'C99', 'D',\n",
       "       'D10 D12', 'D11', 'D15', 'D17', 'D19', 'D20', 'D21', 'D22', 'D26',\n",
       "       'D28', 'D30', 'D33', 'D34', 'D35', 'D36', 'D37', 'D38', 'D40',\n",
       "       'D43', 'D45', 'D46', 'D47', 'D48', 'D49', 'D50', 'D56', 'D6', 'D7',\n",
       "       'D9', 'E10', 'E101', 'E12', 'E121', 'E17', 'E24', 'E25', 'E31',\n",
       "       'E33', 'E34', 'E36', 'E38', 'E39 E41', 'E40', 'E44', 'E45', 'E46',\n",
       "       'E49', 'E50', 'E52', 'E58', 'E60', 'E63', 'E67', 'E68', 'E77',\n",
       "       'E8', 'F', 'F E46', 'F E57', 'F E69', 'F G63', 'F G73', 'F2',\n",
       "       'F33', 'F38', 'F4', 'G6', 'T', nan], dtype=object)"
      ]
     },
     "execution_count": 233,
     "metadata": {},
     "output_type": "execute_result"
    }
   ],
   "source": [
    "full['Cabin'].sort_values().unique()"
   ]
  },
  {
   "cell_type": "code",
   "execution_count": 234,
   "metadata": {},
   "outputs": [],
   "source": [
    "full['Cabin'].fillna('Other', inplace=True)"
   ]
  },
  {
   "cell_type": "markdown",
   "metadata": {},
   "source": [
    "### 2. Handling Outliers\n",
    "       1. IQR\n",
    "       2. standard deviation "
   ]
  },
  {
   "cell_type": "code",
   "execution_count": 235,
   "metadata": {},
   "outputs": [
    {
     "data": {
      "image/png": "[encoded data removed]",
      "text/plain": [
       "<Figure size 1584x432 with 2 Axes>"
      ]
     },
     "metadata": {
      "needs_background": "light"
     },
     "output_type": "display_data"
    }
   ],
   "source": [
    "data_viz(full, ['Fare'], type='box')"
   ]
  },
  {
   "cell_type": "markdown",
   "metadata": {},
   "source": [
    "### 3. Feature Generation"
   ]
  },
  {
   "cell_type": "code",
   "execution_count": 236,
   "metadata": {},
   "outputs": [
    {
     "data": {
      "text/plain": [
       "1    0.772727\n",
       "0    0.227273\n",
       "Name: Survived, dtype: float64"
      ]
     },
     "execution_count": 236,
     "metadata": {},
     "output_type": "execute_result"
    }
   ],
   "source": [
    "train[train['Fare']>=85]['Survived'].value_counts(normalize=True)"
   ]
  },
  {
   "cell_type": "code",
   "execution_count": 237,
   "metadata": {},
   "outputs": [],
   "source": [
    "full['is_base_price'] = np.where(full['Fare']>=85, 1, 0)"
   ]
  },
  {
   "cell_type": "code",
   "execution_count": 238,
   "metadata": {},
   "outputs": [
    {
     "data": {
      "text/html": [
       "<div>\n",
       "<style scoped>\n",
       "    .dataframe tbody tr th:only-of-type {\n",
       "        vertical-align: middle;\n",
       "    }\n",
       "\n",
       "    .dataframe tbody tr th {\n",
       "        vertical-align: top;\n",
       "    }\n",
       "\n",
       "    .dataframe thead th {\n",
       "        text-align: right;\n",
       "    }\n",
       "</style>\n",
       "<table border=\"1\" class=\"dataframe\">\n",
       "  <thead>\n",
       "    <tr style=\"text-align: right;\">\n",
       "      <th></th>\n",
       "      <th>PassengerId</th>\n",
       "      <th>Survived</th>\n",
       "      <th>Pclass</th>\n",
       "      <th>Name</th>\n",
       "      <th>Sex</th>\n",
       "      <th>Age</th>\n",
       "      <th>SibSp</th>\n",
       "      <th>Parch</th>\n",
       "      <th>Ticket</th>\n",
       "      <th>Fare</th>\n",
       "      <th>Cabin</th>\n",
       "      <th>Embarked</th>\n",
       "      <th>is_train</th>\n",
       "      <th>cabin_null</th>\n",
       "      <th>Age_null</th>\n",
       "      <th>Age_binned</th>\n",
       "      <th>is_base_price</th>\n",
       "    </tr>\n",
       "  </thead>\n",
       "  <tbody>\n",
       "    <tr>\n",
       "      <th>0</th>\n",
       "      <td>1</td>\n",
       "      <td>0</td>\n",
       "      <td>3</td>\n",
       "      <td>Braund, Mr. Owen Harris</td>\n",
       "      <td>male</td>\n",
       "      <td>22.0</td>\n",
       "      <td>1</td>\n",
       "      <td>0</td>\n",
       "      <td>A/5 21171</td>\n",
       "      <td>7.2500</td>\n",
       "      <td>Other</td>\n",
       "      <td>S</td>\n",
       "      <td>1</td>\n",
       "      <td>1</td>\n",
       "      <td>0</td>\n",
       "      <td>2</td>\n",
       "      <td>0</td>\n",
       "    </tr>\n",
       "    <tr>\n",
       "      <th>1</th>\n",
       "      <td>2</td>\n",
       "      <td>1</td>\n",
       "      <td>1</td>\n",
       "      <td>Cumings, Mrs. John Bradley (Florence Briggs Th...</td>\n",
       "      <td>female</td>\n",
       "      <td>38.0</td>\n",
       "      <td>1</td>\n",
       "      <td>0</td>\n",
       "      <td>PC 17599</td>\n",
       "      <td>71.2833</td>\n",
       "      <td>C85</td>\n",
       "      <td>C</td>\n",
       "      <td>1</td>\n",
       "      <td>0</td>\n",
       "      <td>0</td>\n",
       "      <td>2</td>\n",
       "      <td>0</td>\n",
       "    </tr>\n",
       "  </tbody>\n",
       "</table>\n",
       "</div>"
      ],
      "text/plain": [
       "   PassengerId  Survived  Pclass  \\\n",
       "0            1         0       3   \n",
       "1            2         1       1   \n",
       "\n",
       "                                                Name     Sex   Age  SibSp  \\\n",
       "0                            Braund, Mr. Owen Harris    male  22.0      1   \n",
       "1  Cumings, Mrs. John Bradley (Florence Briggs Th...  female  38.0      1   \n",
       "\n",
       "   Parch     Ticket     Fare  Cabin Embarked  is_train  cabin_null  Age_null  \\\n",
       "0      0  A/5 21171   7.2500  Other        S         1           1         0   \n",
       "1      0   PC 17599  71.2833    C85        C         1           0         0   \n",
       "\n",
       "  Age_binned  is_base_price  \n",
       "0          2              0  \n",
       "1          2              0  "
      ]
     },
     "execution_count": 238,
     "metadata": {},
     "output_type": "execute_result"
    }
   ],
   "source": [
    "full.head(2)"
   ]
  },
  {
   "cell_type": "markdown",
   "metadata": {},
   "source": [
    "## Encoding"
   ]
  },
  {
   "cell_type": "code",
   "execution_count": 239,
   "metadata": {},
   "outputs": [],
   "source": [
    "# full.drop('PassengerId', axis=1, inplace=True)"
   ]
  },
  {
   "cell_type": "code",
   "execution_count": 240,
   "metadata": {},
   "outputs": [],
   "source": [
    "drop_columns = ['Name', 'Ticket', 'Cabin']\n",
    "full.drop(drop_columns, axis=1, inplace=True) # dropping for initial basic attempt"
   ]
  },
  {
   "cell_type": "code",
   "execution_count": 241,
   "metadata": {},
   "outputs": [],
   "source": [
    "full = pd.get_dummies(full)"
   ]
  },
  {
   "cell_type": "markdown",
   "metadata": {},
   "source": [
    "## train_test_split"
   ]
  },
  {
   "cell_type": "code",
   "execution_count": 242,
   "metadata": {},
   "outputs": [],
   "source": [
    "train = full[full['is_train']==1]\n",
    "test = full[full['is_train']==0]\n",
    "\n",
    "train.drop('is_train', axis=1, inplace=True)\n",
    "test.drop(['is_train', 'Survived'], axis=1, inplace=True)"
   ]
  },
  {
   "cell_type": "code",
   "execution_count": 243,
   "metadata": {},
   "outputs": [],
   "source": [
    "y = train['Survived'].values\n",
    "X = train.drop('Survived', axis=1)\n",
    "# y.value_counts(normalize=True)"
   ]
  },
  {
   "cell_type": "code",
   "execution_count": 244,
   "metadata": {},
   "outputs": [],
   "source": [
    "X_train, X_val, y_train, y_val = train_test_split(X.drop('PassengerId', axis=1), y, stratify=y, random_state=0)"
   ]
  },
  {
   "cell_type": "code",
   "execution_count": null,
   "metadata": {},
   "outputs": [],
   "source": []
  },
  {
   "cell_type": "code",
   "execution_count": null,
   "metadata": {},
   "outputs": [],
   "source": []
  },
  {
   "cell_type": "markdown",
   "metadata": {},
   "source": [
    "## Hyper parameter optimization"
   ]
  },
  {
   "cell_type": "code",
   "execution_count": 245,
   "metadata": {},
   "outputs": [],
   "source": [
    "space = {\n",
    "    'n_estimators' : hp.choice('n_estimators', [100, 500, 100, 1500, 2000]),\n",
    "    'criterion' : hp.choice('criterion', ['entropy', 'gini']),\n",
    "    'max_features': hp.choice('max_features', ['auto','sqrt', 'log2']),\n",
    "    'max_depth': hp.choice('max_depth', [10,50]),\n",
    "    'min_samples_split': hp.choice('min_samples_split', [1,2,3,5,8,13]),\n",
    "    'min_samples_leaf': hp.choice('min_samples_leaf', [1,2])\n",
    "}"
   ]
  },
  {
   "cell_type": "code",
   "execution_count": 246,
   "metadata": {},
   "outputs": [],
   "source": [
    "def objective(space):\n",
    "    model = XGBClassifier(n_estimators = space['n_estimators'],\n",
    "                       criterion= space['criterion'],\n",
    "                       max_features = space['max_features'],\n",
    "                       max_depth = space['max_depth'],\n",
    "                       min_samples_split = space['min_samples_split'],\n",
    "                       min_samples_leaf = space['min_samples_leaf'])\n",
    "    accuracy = cross_val_score(model, X_train, y_train, cv=5).mean()\n",
    "    # we aim to maximize accuracy so we return negative value.\n",
    "    return {'loss':-accuracy, 'status':STATUS_OK}"
   ]
  },
  {
   "cell_type": "code",
   "execution_count": 247,
   "metadata": {},
   "outputs": [
    {
     "name": "stdout",
     "output_type": "stream",
     "text": [
      "100%|██████████| 100/100 [04:36<00:00,  2.76s/trial, best loss: -0.821815733363259]\n"
     ]
    },
    {
     "data": {
      "text/plain": [
       "{'criterion': 1,\n",
       " 'max_depth': 0,\n",
       " 'max_features': 0,\n",
       " 'min_samples_leaf': 1,\n",
       " 'min_samples_split': 5,\n",
       " 'n_estimators': 2}"
      ]
     },
     "execution_count": 247,
     "metadata": {},
     "output_type": "execute_result"
    }
   ],
   "source": [
    "trials= Trials()\n",
    "best_model = fmin(fn=objective,\n",
    "                 space=space,\n",
    "                 algo=tpe.suggest,\n",
    "                 trials= trials,\n",
    "                 max_evals=100)\n",
    "best_model"
   ]
  },
  {
   "cell_type": "code",
   "execution_count": 248,
   "metadata": {},
   "outputs": [],
   "source": [
    "n_estimators = [100, 500, 100, 1500, 2000]\n",
    "criterion = ['entropy', 'gini']\n",
    "max_features = ['auto','sqrt', 'log2']\n",
    "max_depth = [10,50]\n",
    "min_samples_split = [1,2,3,5,8,13]\n",
    "min_samples_leaf = [1,2]"
   ]
  },
  {
   "cell_type": "code",
   "execution_count": 249,
   "metadata": {},
   "outputs": [],
   "source": [
    "model = XGBClassifier(n_estimators = n_estimators[best_model['n_estimators']],\n",
    "                       criterion= criterion[best_model['criterion']],\n",
    "                       max_features = max_features[best_model['max_features']],\n",
    "                       max_depth = max_depth[best_model['max_depth']],\n",
    "                       min_samples_split = min_samples_split[best_model['min_samples_split']],\n",
    "                       min_samples_leaf = min_samples_leaf[best_model['min_samples_leaf']])"
   ]
  },
  {
   "cell_type": "code",
   "execution_count": 250,
   "metadata": {},
   "outputs": [
    {
     "data": {
      "text/plain": [
       "XGBClassifier(base_score=0.5, booster='gbtree', colsample_bylevel=1,\n",
       "              colsample_bynode=1, colsample_bytree=1, criterion='gini', gamma=0,\n",
       "              learning_rate=0.1, max_delta_step=0, max_depth=10,\n",
       "              max_features='auto', min_child_weight=1, min_samples_leaf=2,\n",
       "              min_samples_split=13, missing=None, n_estimators=100, n_jobs=1,\n",
       "              nthread=None, objective='binary:logistic', random_state=0,\n",
       "              reg_alpha=0, reg_lambda=1, scale_pos_weight=1, seed=None,\n",
       "              silent=None, subsample=1, verbosity=1)"
      ]
     },
     "execution_count": 250,
     "metadata": {},
     "output_type": "execute_result"
    }
   ],
   "source": [
    "model.fit(X_train, y_train)"
   ]
  },
  {
   "cell_type": "code",
   "execution_count": 251,
   "metadata": {},
   "outputs": [
    {
     "data": {
      "text/plain": [
       "0.8251121076233184"
      ]
     },
     "execution_count": 251,
     "metadata": {},
     "output_type": "execute_result"
    }
   ],
   "source": [
    "y_pred = model.predict(X_val)\n",
    "accuracy_score(y_val, y_pred)"
   ]
  },
  {
   "cell_type": "code",
   "execution_count": 252,
   "metadata": {},
   "outputs": [],
   "source": [
    "y_pred = model.predict(test.drop('PassengerId', axis=1))"
   ]
  },
  {
   "cell_type": "code",
   "execution_count": 258,
   "metadata": {},
   "outputs": [
    {
     "data": {
      "text/html": [
       "<div>\n",
       "<style scoped>\n",
       "    .dataframe tbody tr th:only-of-type {\n",
       "        vertical-align: middle;\n",
       "    }\n",
       "\n",
       "    .dataframe tbody tr th {\n",
       "        vertical-align: top;\n",
       "    }\n",
       "\n",
       "    .dataframe thead th {\n",
       "        text-align: right;\n",
       "    }\n",
       "</style>\n",
       "<table border=\"1\" class=\"dataframe\">\n",
       "  <thead>\n",
       "    <tr style=\"text-align: right;\">\n",
       "      <th></th>\n",
       "      <th>PassengerId</th>\n",
       "      <th>Survived</th>\n",
       "    </tr>\n",
       "  </thead>\n",
       "  <tbody>\n",
       "    <tr>\n",
       "      <th>0</th>\n",
       "      <td>892</td>\n",
       "      <td>0</td>\n",
       "    </tr>\n",
       "    <tr>\n",
       "      <th>1</th>\n",
       "      <td>893</td>\n",
       "      <td>0</td>\n",
       "    </tr>\n",
       "  </tbody>\n",
       "</table>\n",
       "</div>"
      ],
      "text/plain": [
       "   PassengerId  Survived\n",
       "0          892         0\n",
       "1          893         0"
      ]
     },
     "execution_count": 258,
     "metadata": {},
     "output_type": "execute_result"
    }
   ],
   "source": [
    "data_object = {'PassengerId':test['PassengerId'], 'Survived':y_pred}\n",
    "submission = pd.DataFrame(data_object)\n",
    "submission.head(2)"
   ]
  },
  {
   "cell_type": "code",
   "execution_count": 259,
   "metadata": {},
   "outputs": [],
   "source": [
    "output = submission.to_csv('gender_submission.csv', index=False)"
   ]
  },
  {
   "cell_type": "code",
   "execution_count": null,
   "metadata": {},
   "outputs": [],
   "source": []
  }
 ],
 "metadata": {
  "kernelspec": {
   "display_name": "Python 3",
   "language": "python",
   "name": "python3"
  },
  "language_info": {
   "codemirror_mode": {
    "name": "ipython",
    "version": 3
   },
   "file_extension": ".py",
   "mimetype": "text/x-python",
   "name": "python",
   "nbconvert_exporter": "python",
   "pygments_lexer": "ipython3",
   "version": "3.7.6"
  }
 },
 "nbformat": 4,
 "nbformat_minor": 4
}
